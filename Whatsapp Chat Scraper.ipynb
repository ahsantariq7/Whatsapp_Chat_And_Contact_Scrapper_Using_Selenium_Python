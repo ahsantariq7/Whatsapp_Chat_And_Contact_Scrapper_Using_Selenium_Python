{
 "cells": [
  {
   "cell_type": "code",
   "execution_count": 1,
   "id": "5a00e224",
   "metadata": {},
   "outputs": [
    {
     "name": "stderr",
     "output_type": "stream",
     "text": [
      "C:\\Users\\ahsan\\AppData\\Local\\Temp/ipykernel_5228/906904494.py:9: DeprecationWarning: executable_path has been deprecated, please pass in a Service object\n",
      "  driver = webdriver.Chrome(ChromeDriverManager().install())\n"
     ]
    },
    {
     "name": "stdout",
     "output_type": "stream",
     "text": [
      "WhatsApp Web\n"
     ]
    }
   ],
   "source": [
    "# importing webdriver from selenium\n",
    "from selenium import webdriver\n",
    "from webdriver_manager.chrome import ChromeDriverManager\n",
    "from selenium.webdriver.common.by import By\n",
    "from selenium.webdriver.common.keys import Keys\n",
    "import time\n",
    "\n",
    "\n",
    "driver = webdriver.Chrome(ChromeDriverManager().install())\n",
    "\n",
    "# URL of website\n",
    "url = \"https://web.whatsapp.com/\"\n",
    "\n",
    "# Opening the website\n",
    "\n",
    "driver.get(url)\n",
    "\n",
    "# Getting current URL source code\n",
    "\n",
    "\n",
    "get_title = driver.title\n",
    "\n",
    "# Printing the title of this URL\n",
    "print(get_title)"
   ]
  },
  {
   "cell_type": "code",
   "execution_count": 2,
   "id": "c444effa",
   "metadata": {},
   "outputs": [
    {
     "data": {
      "text/plain": [
       "[<selenium.webdriver.remote.webelement.WebElement (session=\"4bfcad273924610d805d55b758a45cdd\", element=\"0ba31c38-1a8c-4b7b-9908-3181f97047f2\")>,\n",
       " <selenium.webdriver.remote.webelement.WebElement (session=\"4bfcad273924610d805d55b758a45cdd\", element=\"7f7f36be-e879-4ccd-8a43-2ad53643a4a0\")>]"
      ]
     },
     "execution_count": 2,
     "metadata": {},
     "output_type": "execute_result"
    }
   ],
   "source": [
    "get_links=driver.find_elements(By.TAG_NAME, \"span\")\n",
    "get_links"
   ]
  },
  {
   "cell_type": "code",
   "execution_count": 3,
   "id": "a36ffc49",
   "metadata": {},
   "outputs": [],
   "source": [
    "a=[]\n",
    "for i in get_links:\n",
    "    a.append(i.text)"
   ]
  },
  {
   "cell_type": "code",
   "execution_count": 4,
   "id": "80c323c0",
   "metadata": {},
   "outputs": [
    {
     "data": {
      "text/plain": [
       "['', '']"
      ]
     },
     "execution_count": 4,
     "metadata": {},
     "output_type": "execute_result"
    }
   ],
   "source": [
    "a"
   ]
  },
  {
   "cell_type": "code",
   "execution_count": 5,
   "id": "8aaeb443",
   "metadata": {},
   "outputs": [],
   "source": [
    "a=[]\n",
    "for i in get_links:\n",
    "    a.append(i.text)"
   ]
  },
  {
   "cell_type": "code",
   "execution_count": 6,
   "id": "27e74c40",
   "metadata": {},
   "outputs": [
    {
     "data": {
      "text/plain": [
       "[]"
      ]
     },
     "execution_count": 6,
     "metadata": {},
     "output_type": "execute_result"
    }
   ],
   "source": [
    "get_links=driver.find_elements(By.CLASS_NAME, \"zoWT4\")\n",
    "get_links"
   ]
  },
  {
   "cell_type": "code",
   "execution_count": 7,
   "id": "8d5d806e",
   "metadata": {},
   "outputs": [],
   "source": [
    "for i in get_links:\n",
    "    print(i.text)"
   ]
  },
  {
   "cell_type": "code",
   "execution_count": 8,
   "id": "55c2fd60",
   "metadata": {},
   "outputs": [
    {
     "ename": "NameError",
     "evalue": "name 'ggj6brxn' is not defined",
     "output_type": "error",
     "traceback": [
      "\u001b[1;31m---------------------------------------------------------------------------\u001b[0m",
      "\u001b[1;31mNameError\u001b[0m                                 Traceback (most recent call last)",
      "\u001b[1;32m~\\AppData\\Local\\Temp/ipykernel_5228/1345975054.py\u001b[0m in \u001b[0;36m<module>\u001b[1;34m\u001b[0m\n\u001b[1;32m----> 1\u001b[1;33m \u001b[0mggj6brxn\u001b[0m\u001b[1;33m.\u001b[0m\u001b[0mgfz4du6o\u001b[0m\u001b[1;33m.\u001b[0m\u001b[0mr7fjleex\u001b[0m\u001b[1;33m.\u001b[0m\u001b[0mg0rxnol2\u001b[0m\u001b[1;33m.\u001b[0m\u001b[0mlhj4utae\u001b[0m\u001b[1;33m.\u001b[0m\u001b[0mle5p0ye3\u001b[0m\u001b[1;33m.\u001b[0m\u001b[0ml7jjieqr\u001b[0m\u001b[1;33m.\u001b[0m\u001b[0mi0jNr\u001b[0m\u001b[1;33m\u001b[0m\u001b[1;33m\u001b[0m\u001b[0m\n\u001b[0m",
      "\u001b[1;31mNameError\u001b[0m: name 'ggj6brxn' is not defined"
     ]
    }
   ],
   "source": [
    "ggj6brxn.gfz4du6o.r7fjleex.g0rxnol2.lhj4utae.le5p0ye3.l7jjieqr.i0jNr"
   ]
  },
  {
   "cell_type": "code",
   "execution_count": 9,
   "id": "96c2c316",
   "metadata": {},
   "outputs": [
    {
     "data": {
      "text/plain": [
       "[<selenium.webdriver.remote.webelement.WebElement (session=\"4bfcad273924610d805d55b758a45cdd\", element=\"3312c24b-4cdd-4abc-86bf-fca87e5fe1bd\")>,\n",
       " <selenium.webdriver.remote.webelement.WebElement (session=\"4bfcad273924610d805d55b758a45cdd\", element=\"c784004d-c7a7-469e-88bf-b37f9c3e6527\")>,\n",
       " <selenium.webdriver.remote.webelement.WebElement (session=\"4bfcad273924610d805d55b758a45cdd\", element=\"c8e69c57-2be0-45b6-aab6-86efc63b4caa\")>,\n",
       " <selenium.webdriver.remote.webelement.WebElement (session=\"4bfcad273924610d805d55b758a45cdd\", element=\"13f3e6eb-25e9-425e-8fe4-f7fd49cd1d2c\")>,\n",
       " <selenium.webdriver.remote.webelement.WebElement (session=\"4bfcad273924610d805d55b758a45cdd\", element=\"25af1c68-7a3b-4b80-8b1b-7abc9e0a589f\")>,\n",
       " <selenium.webdriver.remote.webelement.WebElement (session=\"4bfcad273924610d805d55b758a45cdd\", element=\"0167a96a-f8c8-476d-9f85-b6cd851c17d6\")>,\n",
       " <selenium.webdriver.remote.webelement.WebElement (session=\"4bfcad273924610d805d55b758a45cdd\", element=\"eed91f14-c4d3-4b56-85c8-1936441a7bb8\")>,\n",
       " <selenium.webdriver.remote.webelement.WebElement (session=\"4bfcad273924610d805d55b758a45cdd\", element=\"ed6661a1-cac3-47c5-8c48-6ae0a490df9a\")>,\n",
       " <selenium.webdriver.remote.webelement.WebElement (session=\"4bfcad273924610d805d55b758a45cdd\", element=\"873ef700-85a0-4870-b216-84c331d23c0a\")>,\n",
       " <selenium.webdriver.remote.webelement.WebElement (session=\"4bfcad273924610d805d55b758a45cdd\", element=\"35f282e4-413d-42d9-963f-e90aa2ec795b\")>,\n",
       " <selenium.webdriver.remote.webelement.WebElement (session=\"4bfcad273924610d805d55b758a45cdd\", element=\"efbbac8f-f100-4381-89db-e2522429ca63\")>,\n",
       " <selenium.webdriver.remote.webelement.WebElement (session=\"4bfcad273924610d805d55b758a45cdd\", element=\"9428b698-ac06-4042-9864-540d9b957ea7\")>,\n",
       " <selenium.webdriver.remote.webelement.WebElement (session=\"4bfcad273924610d805d55b758a45cdd\", element=\"8d980897-ca10-4ff0-b582-99d9eba4a099\")>,\n",
       " <selenium.webdriver.remote.webelement.WebElement (session=\"4bfcad273924610d805d55b758a45cdd\", element=\"4e3f18ca-7c54-4933-9e9d-f3087a4b7512\")>,\n",
       " <selenium.webdriver.remote.webelement.WebElement (session=\"4bfcad273924610d805d55b758a45cdd\", element=\"a74f6026-8cc3-4ec6-adac-cd08cce207eb\")>,\n",
       " <selenium.webdriver.remote.webelement.WebElement (session=\"4bfcad273924610d805d55b758a45cdd\", element=\"8cb2ea33-2a83-4134-9620-08ac5b24147d\")>]"
      ]
     },
     "execution_count": 9,
     "metadata": {},
     "output_type": "execute_result"
    }
   ],
   "source": [
    "get_links=driver.find_elements(By.CLASS_NAME, \"zoWT4\")\n",
    "get_links"
   ]
  },
  {
   "cell_type": "code",
   "execution_count": 10,
   "id": "6ec650aa",
   "metadata": {},
   "outputs": [
    {
     "name": "stdout",
     "output_type": "stream",
     "text": [
      "Friends group\n",
      "سیاسی حالات\n",
      "Shah Bhai Senior\n",
      "Scholarshiphive.com G44\n",
      "Kashif\n",
      "فورم کلاس مدینہ ٹاؤن (عابد صاحب)\n",
      "Muhammad Asif\n",
      "Talha Falak 9bc\n",
      "Wisdom Valley Official\n",
      "Ba G Irum\n",
      "ScholarshipStudio.comE17\n",
      "Raheem dost\n",
      "Rao Haseeb 17 Batch Bro\n",
      "Premium Course For Free\n",
      "Danish\n",
      "CSe_dy Shahzadaaa\n"
     ]
    }
   ],
   "source": [
    "for i in get_links:\n",
    "    print(i.text)"
   ]
  },
  {
   "cell_type": "code",
   "execution_count": 12,
   "id": "82247f30",
   "metadata": {},
   "outputs": [
    {
     "ename": "KeyboardInterrupt",
     "evalue": "",
     "output_type": "error",
     "traceback": [
      "\u001b[1;31m---------------------------------------------------------------------------\u001b[0m",
      "\u001b[1;31mKeyboardInterrupt\u001b[0m                         Traceback (most recent call last)",
      "\u001b[1;32m~\\AppData\\Local\\Temp/ipykernel_5228/701625372.py\u001b[0m in \u001b[0;36m<module>\u001b[1;34m\u001b[0m\n\u001b[0;32m      7\u001b[0m         \u001b[0md\u001b[0m\u001b[1;33m.\u001b[0m\u001b[0mappend\u001b[0m\u001b[1;33m(\u001b[0m\u001b[0mi\u001b[0m\u001b[1;33m.\u001b[0m\u001b[0mtext\u001b[0m\u001b[1;33m)\u001b[0m\u001b[1;33m\u001b[0m\u001b[1;33m\u001b[0m\u001b[0m\n\u001b[0;32m      8\u001b[0m         \u001b[0melement\u001b[0m\u001b[1;33m.\u001b[0m\u001b[0msend_keys\u001b[0m\u001b[1;33m(\u001b[0m\u001b[0mKeys\u001b[0m\u001b[1;33m.\u001b[0m\u001b[0mPAGE_DOWN\u001b[0m\u001b[1;33m)\u001b[0m\u001b[1;33m\u001b[0m\u001b[1;33m\u001b[0m\u001b[0m\n\u001b[1;32m----> 9\u001b[1;33m     \u001b[0mtime\u001b[0m\u001b[1;33m.\u001b[0m\u001b[0msleep\u001b[0m\u001b[1;33m(\u001b[0m\u001b[1;36m3\u001b[0m\u001b[1;33m)\u001b[0m\u001b[1;33m\u001b[0m\u001b[1;33m\u001b[0m\u001b[0m\n\u001b[0m",
      "\u001b[1;31mKeyboardInterrupt\u001b[0m: "
     ]
    }
   ],
   "source": [
    "d=[]\n",
    "element =driver.find_element(By.TAG_NAME,\"body\")\n",
    "\n",
    "while True:\n",
    "    get_links=driver.find_elements(By.CLASS_NAME, \"zoWT4\")\n",
    "    for i in get_links:\n",
    "        d.append(i.text)\n",
    "        element.send_keys(Keys.PAGE_DOWN)\n",
    "    time.sleep(3)"
   ]
  },
  {
   "cell_type": "code",
   "execution_count": 14,
   "id": "a73c0690",
   "metadata": {},
   "outputs": [
    {
     "data": {
      "text/plain": [
       "['Friends group',\n",
       " 'سیاسی حالات',\n",
       " 'Kashif',\n",
       " 'Scholarshiphive.com G44',\n",
       " 'Talha Falak 9bc',\n",
       " 'Shah Bhai Senior',\n",
       " 'Muhammad Asif',\n",
       " 'فورم کلاس مدینہ ٹاؤن (عابد صاحب)',\n",
       " 'Ba G Irum',\n",
       " 'Wisdom Valley Official',\n",
       " 'ScholarshipStudio.comE17',\n",
       " 'CSe_dy Shahzadaaa',\n",
       " 'Danish',\n",
       " 'Raheem dost',\n",
       " 'Premium Course For Free',\n",
       " 'Rao Haseeb 17 Batch Bro',\n",
       " 'Friends group',\n",
       " 'سیاسی حالات',\n",
       " 'Kashif',\n",
       " 'Scholarshiphive.com G44',\n",
       " 'Friends Group...',\n",
       " 'Ahsan Raza Rao Friend',\n",
       " 'Majid Bhai',\n",
       " 'qasim kashmiri',\n",
       " 'Mamu Mustafa',\n",
       " 'My things',\n",
       " 'Affan Rana 21 CS',\n",
       " 'Ch Usama Arif',\n",
       " 'Ahsan Raza Rao',\n",
       " '𝑨𝒉𝒕𝒔𝒉𝒂𝒎 Bhai 18 Cse',\n",
       " 'Fantastic four',\n",
       " 'Mubashir Bhai Senior 16cs',\n",
       " 'Bhai mehmood mehmood',\n",
       " 'Numan Model Fellows',\n",
       " 'Zeeshan Ahmad 21 CSE',\n",
       " 'Anti Mubeen Arshad',\n",
       " 'Ahmad JuTt 21 CSE',\n",
       " 'Adnan Azhar Ms CSE',\n",
       " 'Uzzam Ejaz Dost',\n",
       " 'Saad',\n",
       " 'Hassan 18 Cse',\n",
       " 'Bhai Shaney',\n",
       " 'Ba G Tarah Chutki',\n",
       " 'Probablity',\n",
       " 'Muhammad Faizan Mustafa 21 Cse',\n",
       " 'Abdul jabbar Bhai',\n",
       " 'Freelance sites',\n",
       " 'Huzaifa Asim Friend',\n",
       " 'EIP Sessions Male',\n",
       " 'Shoib Shareef Dost',\n",
       " 'Ali Shahzad Dost',\n",
       " 'Ameer Hamza Get Red',\n",
       " 'Muhammad Imran 21 Cse',\n",
       " 'Online Work',\n",
       " 'Umer Waheed Jazz',\n",
       " 'Hina Mam',\n",
       " '+92 302 5988604',\n",
       " 'Hassan Se Clg Dost',\n",
       " 'AAMujeeb ch1',\n",
       " 'Usman Jutt 18 CS',\n",
       " 'Ahsan together team 2',\n",
       " 'Sajid Arshad Rahimia',\n",
       " 'Rana Adnan',\n",
       " 'Daily Online Work',\n",
       " 'Ba G Atia',\n",
       " 'Zohaib Bhai Skill Evokeers.',\n",
       " 'Abdul Basit WhatsApp',\n",
       " 'Ali Muneer',\n",
       " 'Walih Bhai 18 Cs',\n",
       " 'zaneeq Kafi',\n",
       " 'Ali hamza huss frie',\n",
       " 'umar Farooq C++ Student',\n",
       " 'Ba G Muniba Iqbal',\n",
       " 'Bhai Sameen Senior',\n",
       " 'Shahzaib',\n",
       " 'Abuzar Home Ufone',\n",
       " 'Mujahida Hakeem Online Work',\n",
       " '+91 79861 98964',\n",
       " '+92 308 1868110',\n",
       " '+91 92895 53202',\n",
       " 'OTP Verification',\n",
       " 'سیمینار انتظامیہ STH',\n",
       " 'Python+data analysis',\n",
       " 'Ch Zain',\n",
       " 'Buddy study group',\n",
       " '+92 340 6458543',\n",
       " 'Ba G Ayesha Saleem',\n",
       " 'پاکستان زندہ باد',\n",
       " '+92 306 6972002',\n",
       " 'My team members(final)',\n",
       " 'Fahad ul Allah Zong',\n",
       " 'Buddy social group',\n",
       " 'Complex Variable 20CS',\n",
       " '+92 306 7710701',\n",
       " 'Sir Zulfiqar Sahb',\n",
       " 'In Sha Allah',\n",
       " 'Python group',\n",
       " '3rd sem study group',\n",
       " '+92 305 2173033',\n",
       " 'Python class',\n",
       " 'Shakeel IUB Abu Dost',\n",
       " '+92 340 6458543',\n",
       " 'پاکستان زندہ باد',\n",
       " '+92 306 6972002',\n",
       " 'My team members(final)',\n",
       " 'Fahad ul Allah Zong',\n",
       " 'Buddy social group',\n",
       " 'Complex Variable 20CS',\n",
       " '+92 306 7710701',\n",
       " 'Sir Zulfiqar Sahb',\n",
       " 'In Sha Allah']"
      ]
     },
     "execution_count": 14,
     "metadata": {},
     "output_type": "execute_result"
    }
   ],
   "source": [
    "d"
   ]
  },
  {
   "cell_type": "code",
   "execution_count": 15,
   "id": "a398256e",
   "metadata": {},
   "outputs": [
    {
     "data": {
      "text/plain": [
       "111"
      ]
     },
     "execution_count": 15,
     "metadata": {},
     "output_type": "execute_result"
    }
   ],
   "source": [
    "len(d)"
   ]
  },
  {
   "cell_type": "code",
   "execution_count": 17,
   "id": "d6621383",
   "metadata": {},
   "outputs": [],
   "source": [
    "import pandas as pd"
   ]
  },
  {
   "cell_type": "code",
   "execution_count": 18,
   "id": "0dbe7bec",
   "metadata": {},
   "outputs": [],
   "source": [
    "df=pd.DataFrame({\"Names\":d})"
   ]
  },
  {
   "cell_type": "code",
   "execution_count": 19,
   "id": "1016f480",
   "metadata": {},
   "outputs": [
    {
     "data": {
      "text/html": [
       "<div>\n",
       "<style scoped>\n",
       "    .dataframe tbody tr th:only-of-type {\n",
       "        vertical-align: middle;\n",
       "    }\n",
       "\n",
       "    .dataframe tbody tr th {\n",
       "        vertical-align: top;\n",
       "    }\n",
       "\n",
       "    .dataframe thead th {\n",
       "        text-align: right;\n",
       "    }\n",
       "</style>\n",
       "<table border=\"1\" class=\"dataframe\">\n",
       "  <thead>\n",
       "    <tr style=\"text-align: right;\">\n",
       "      <th></th>\n",
       "      <th>Names</th>\n",
       "    </tr>\n",
       "  </thead>\n",
       "  <tbody>\n",
       "    <tr>\n",
       "      <th>0</th>\n",
       "      <td>Friends group</td>\n",
       "    </tr>\n",
       "    <tr>\n",
       "      <th>1</th>\n",
       "      <td>سیاسی حالات</td>\n",
       "    </tr>\n",
       "    <tr>\n",
       "      <th>2</th>\n",
       "      <td>Kashif</td>\n",
       "    </tr>\n",
       "    <tr>\n",
       "      <th>3</th>\n",
       "      <td>Scholarshiphive.com G44</td>\n",
       "    </tr>\n",
       "    <tr>\n",
       "      <th>4</th>\n",
       "      <td>Talha Falak 9bc</td>\n",
       "    </tr>\n",
       "    <tr>\n",
       "      <th>...</th>\n",
       "      <td>...</td>\n",
       "    </tr>\n",
       "    <tr>\n",
       "      <th>106</th>\n",
       "      <td>Buddy social group</td>\n",
       "    </tr>\n",
       "    <tr>\n",
       "      <th>107</th>\n",
       "      <td>Complex Variable 20CS</td>\n",
       "    </tr>\n",
       "    <tr>\n",
       "      <th>108</th>\n",
       "      <td>+92 306 7710701</td>\n",
       "    </tr>\n",
       "    <tr>\n",
       "      <th>109</th>\n",
       "      <td>Sir Zulfiqar Sahb</td>\n",
       "    </tr>\n",
       "    <tr>\n",
       "      <th>110</th>\n",
       "      <td>In Sha Allah</td>\n",
       "    </tr>\n",
       "  </tbody>\n",
       "</table>\n",
       "<p>111 rows × 1 columns</p>\n",
       "</div>"
      ],
      "text/plain": [
       "                       Names\n",
       "0              Friends group\n",
       "1                سیاسی حالات\n",
       "2                     Kashif\n",
       "3    Scholarshiphive.com G44\n",
       "4            Talha Falak 9bc\n",
       "..                       ...\n",
       "106       Buddy social group\n",
       "107    Complex Variable 20CS\n",
       "108          +92 306 7710701\n",
       "109        Sir Zulfiqar Sahb\n",
       "110             In Sha Allah\n",
       "\n",
       "[111 rows x 1 columns]"
      ]
     },
     "execution_count": 19,
     "metadata": {},
     "output_type": "execute_result"
    }
   ],
   "source": [
    "df"
   ]
  },
  {
   "cell_type": "code",
   "execution_count": null,
   "id": "89da6096",
   "metadata": {},
   "outputs": [],
   "source": [
    "#i0jNr selectable-text copyable-text"
   ]
  },
  {
   "cell_type": "code",
   "execution_count": 22,
   "id": "4fd6b005",
   "metadata": {},
   "outputs": [
    {
     "ename": "KeyboardInterrupt",
     "evalue": "",
     "output_type": "error",
     "traceback": [
      "\u001b[1;31m---------------------------------------------------------------------------\u001b[0m",
      "\u001b[1;31mKeyboardInterrupt\u001b[0m                         Traceback (most recent call last)",
      "\u001b[1;32m~\\AppData\\Local\\Temp/ipykernel_5228/2313072439.py\u001b[0m in \u001b[0;36m<module>\u001b[1;34m\u001b[0m\n\u001b[0;32m      6\u001b[0m     \u001b[1;32mfor\u001b[0m \u001b[0mi\u001b[0m \u001b[1;32min\u001b[0m \u001b[0mget_links\u001b[0m\u001b[1;33m:\u001b[0m\u001b[1;33m\u001b[0m\u001b[1;33m\u001b[0m\u001b[0m\n\u001b[0;32m      7\u001b[0m         \u001b[0mdanish_msgs\u001b[0m\u001b[1;33m.\u001b[0m\u001b[0mappend\u001b[0m\u001b[1;33m(\u001b[0m\u001b[0mi\u001b[0m\u001b[1;33m.\u001b[0m\u001b[0mtext\u001b[0m\u001b[1;33m)\u001b[0m\u001b[1;33m\u001b[0m\u001b[1;33m\u001b[0m\u001b[0m\n\u001b[1;32m----> 8\u001b[1;33m         \u001b[0melement\u001b[0m\u001b[1;33m.\u001b[0m\u001b[0msend_keys\u001b[0m\u001b[1;33m(\u001b[0m\u001b[0mKeys\u001b[0m\u001b[1;33m.\u001b[0m\u001b[0mPAGE_UP\u001b[0m\u001b[1;33m)\u001b[0m\u001b[1;33m\u001b[0m\u001b[1;33m\u001b[0m\u001b[0m\n\u001b[0m\u001b[0;32m      9\u001b[0m     \u001b[0mtime\u001b[0m\u001b[1;33m.\u001b[0m\u001b[0msleep\u001b[0m\u001b[1;33m(\u001b[0m\u001b[1;36m3\u001b[0m\u001b[1;33m)\u001b[0m\u001b[1;33m\u001b[0m\u001b[1;33m\u001b[0m\u001b[0m\n",
      "\u001b[1;32m~\\anaconda3\\lib\\site-packages\\selenium\\webdriver\\remote\\webelement.py\u001b[0m in \u001b[0;36msend_keys\u001b[1;34m(self, *value)\u001b[0m\n\u001b[0;32m    231\u001b[0m                 \u001b[0mvalue\u001b[0m \u001b[1;33m=\u001b[0m \u001b[1;34m\"\\n\"\u001b[0m\u001b[1;33m.\u001b[0m\u001b[0mjoin\u001b[0m\u001b[1;33m(\u001b[0m\u001b[0mremote_files\u001b[0m\u001b[1;33m)\u001b[0m\u001b[1;33m\u001b[0m\u001b[1;33m\u001b[0m\u001b[0m\n\u001b[0;32m    232\u001b[0m \u001b[1;33m\u001b[0m\u001b[0m\n\u001b[1;32m--> 233\u001b[1;33m         self._execute(\n\u001b[0m\u001b[0;32m    234\u001b[0m             \u001b[0mCommand\u001b[0m\u001b[1;33m.\u001b[0m\u001b[0mSEND_KEYS_TO_ELEMENT\u001b[0m\u001b[1;33m,\u001b[0m \u001b[1;33m{\u001b[0m\u001b[1;34m\"text\"\u001b[0m\u001b[1;33m:\u001b[0m \u001b[1;34m\"\"\u001b[0m\u001b[1;33m.\u001b[0m\u001b[0mjoin\u001b[0m\u001b[1;33m(\u001b[0m\u001b[0mkeys_to_typing\u001b[0m\u001b[1;33m(\u001b[0m\u001b[0mvalue\u001b[0m\u001b[1;33m)\u001b[0m\u001b[1;33m)\u001b[0m\u001b[1;33m,\u001b[0m \u001b[1;34m\"value\"\u001b[0m\u001b[1;33m:\u001b[0m \u001b[0mkeys_to_typing\u001b[0m\u001b[1;33m(\u001b[0m\u001b[0mvalue\u001b[0m\u001b[1;33m)\u001b[0m\u001b[1;33m}\u001b[0m\u001b[1;33m\u001b[0m\u001b[1;33m\u001b[0m\u001b[0m\n\u001b[0;32m    235\u001b[0m         )\n",
      "\u001b[1;32m~\\anaconda3\\lib\\site-packages\\selenium\\webdriver\\remote\\webelement.py\u001b[0m in \u001b[0;36m_execute\u001b[1;34m(self, command, params)\u001b[0m\n\u001b[0;32m    408\u001b[0m             \u001b[0mparams\u001b[0m \u001b[1;33m=\u001b[0m \u001b[1;33m{\u001b[0m\u001b[1;33m}\u001b[0m\u001b[1;33m\u001b[0m\u001b[1;33m\u001b[0m\u001b[0m\n\u001b[0;32m    409\u001b[0m         \u001b[0mparams\u001b[0m\u001b[1;33m[\u001b[0m\u001b[1;34m\"id\"\u001b[0m\u001b[1;33m]\u001b[0m \u001b[1;33m=\u001b[0m \u001b[0mself\u001b[0m\u001b[1;33m.\u001b[0m\u001b[0m_id\u001b[0m\u001b[1;33m\u001b[0m\u001b[1;33m\u001b[0m\u001b[0m\n\u001b[1;32m--> 410\u001b[1;33m         \u001b[1;32mreturn\u001b[0m \u001b[0mself\u001b[0m\u001b[1;33m.\u001b[0m\u001b[0m_parent\u001b[0m\u001b[1;33m.\u001b[0m\u001b[0mexecute\u001b[0m\u001b[1;33m(\u001b[0m\u001b[0mcommand\u001b[0m\u001b[1;33m,\u001b[0m \u001b[0mparams\u001b[0m\u001b[1;33m)\u001b[0m\u001b[1;33m\u001b[0m\u001b[1;33m\u001b[0m\u001b[0m\n\u001b[0m\u001b[0;32m    411\u001b[0m \u001b[1;33m\u001b[0m\u001b[0m\n\u001b[0;32m    412\u001b[0m     \u001b[1;32mdef\u001b[0m \u001b[0mfind_element\u001b[0m\u001b[1;33m(\u001b[0m\u001b[0mself\u001b[0m\u001b[1;33m,\u001b[0m \u001b[0mby\u001b[0m\u001b[1;33m=\u001b[0m\u001b[0mBy\u001b[0m\u001b[1;33m.\u001b[0m\u001b[0mID\u001b[0m\u001b[1;33m,\u001b[0m \u001b[0mvalue\u001b[0m\u001b[1;33m=\u001b[0m\u001b[1;32mNone\u001b[0m\u001b[1;33m)\u001b[0m \u001b[1;33m->\u001b[0m \u001b[0mWebElement\u001b[0m\u001b[1;33m:\u001b[0m\u001b[1;33m\u001b[0m\u001b[1;33m\u001b[0m\u001b[0m\n",
      "\u001b[1;32m~\\anaconda3\\lib\\site-packages\\selenium\\webdriver\\remote\\webdriver.py\u001b[0m in \u001b[0;36mexecute\u001b[1;34m(self, driver_command, params)\u001b[0m\n\u001b[0;32m    440\u001b[0m                 \u001b[0mparams\u001b[0m\u001b[1;33m[\u001b[0m\u001b[1;34m\"sessionId\"\u001b[0m\u001b[1;33m]\u001b[0m \u001b[1;33m=\u001b[0m \u001b[0mself\u001b[0m\u001b[1;33m.\u001b[0m\u001b[0msession_id\u001b[0m\u001b[1;33m\u001b[0m\u001b[1;33m\u001b[0m\u001b[0m\n\u001b[0;32m    441\u001b[0m \u001b[1;33m\u001b[0m\u001b[0m\n\u001b[1;32m--> 442\u001b[1;33m         \u001b[0mresponse\u001b[0m \u001b[1;33m=\u001b[0m \u001b[0mself\u001b[0m\u001b[1;33m.\u001b[0m\u001b[0mcommand_executor\u001b[0m\u001b[1;33m.\u001b[0m\u001b[0mexecute\u001b[0m\u001b[1;33m(\u001b[0m\u001b[0mdriver_command\u001b[0m\u001b[1;33m,\u001b[0m \u001b[0mparams\u001b[0m\u001b[1;33m)\u001b[0m\u001b[1;33m\u001b[0m\u001b[1;33m\u001b[0m\u001b[0m\n\u001b[0m\u001b[0;32m    443\u001b[0m         \u001b[1;32mif\u001b[0m \u001b[0mresponse\u001b[0m\u001b[1;33m:\u001b[0m\u001b[1;33m\u001b[0m\u001b[1;33m\u001b[0m\u001b[0m\n\u001b[0;32m    444\u001b[0m             \u001b[0mself\u001b[0m\u001b[1;33m.\u001b[0m\u001b[0merror_handler\u001b[0m\u001b[1;33m.\u001b[0m\u001b[0mcheck_response\u001b[0m\u001b[1;33m(\u001b[0m\u001b[0mresponse\u001b[0m\u001b[1;33m)\u001b[0m\u001b[1;33m\u001b[0m\u001b[1;33m\u001b[0m\u001b[0m\n",
      "\u001b[1;32m~\\anaconda3\\lib\\site-packages\\selenium\\webdriver\\remote\\remote_connection.py\u001b[0m in \u001b[0;36mexecute\u001b[1;34m(self, command, params)\u001b[0m\n\u001b[0;32m    292\u001b[0m         \u001b[0mdata\u001b[0m \u001b[1;33m=\u001b[0m \u001b[0mutils\u001b[0m\u001b[1;33m.\u001b[0m\u001b[0mdump_json\u001b[0m\u001b[1;33m(\u001b[0m\u001b[0mparams\u001b[0m\u001b[1;33m)\u001b[0m\u001b[1;33m\u001b[0m\u001b[1;33m\u001b[0m\u001b[0m\n\u001b[0;32m    293\u001b[0m         \u001b[0murl\u001b[0m \u001b[1;33m=\u001b[0m \u001b[1;34mf\"{self._url}{path}\"\u001b[0m\u001b[1;33m\u001b[0m\u001b[1;33m\u001b[0m\u001b[0m\n\u001b[1;32m--> 294\u001b[1;33m         \u001b[1;32mreturn\u001b[0m \u001b[0mself\u001b[0m\u001b[1;33m.\u001b[0m\u001b[0m_request\u001b[0m\u001b[1;33m(\u001b[0m\u001b[0mcommand_info\u001b[0m\u001b[1;33m[\u001b[0m\u001b[1;36m0\u001b[0m\u001b[1;33m]\u001b[0m\u001b[1;33m,\u001b[0m \u001b[0murl\u001b[0m\u001b[1;33m,\u001b[0m \u001b[0mbody\u001b[0m\u001b[1;33m=\u001b[0m\u001b[0mdata\u001b[0m\u001b[1;33m)\u001b[0m\u001b[1;33m\u001b[0m\u001b[1;33m\u001b[0m\u001b[0m\n\u001b[0m\u001b[0;32m    295\u001b[0m \u001b[1;33m\u001b[0m\u001b[0m\n\u001b[0;32m    296\u001b[0m     \u001b[1;32mdef\u001b[0m \u001b[0m_request\u001b[0m\u001b[1;33m(\u001b[0m\u001b[0mself\u001b[0m\u001b[1;33m,\u001b[0m \u001b[0mmethod\u001b[0m\u001b[1;33m,\u001b[0m \u001b[0murl\u001b[0m\u001b[1;33m,\u001b[0m \u001b[0mbody\u001b[0m\u001b[1;33m=\u001b[0m\u001b[1;32mNone\u001b[0m\u001b[1;33m)\u001b[0m\u001b[1;33m:\u001b[0m\u001b[1;33m\u001b[0m\u001b[1;33m\u001b[0m\u001b[0m\n",
      "\u001b[1;32m~\\anaconda3\\lib\\site-packages\\selenium\\webdriver\\remote\\remote_connection.py\u001b[0m in \u001b[0;36m_request\u001b[1;34m(self, method, url, body)\u001b[0m\n\u001b[0;32m    314\u001b[0m \u001b[1;33m\u001b[0m\u001b[0m\n\u001b[0;32m    315\u001b[0m         \u001b[1;32mif\u001b[0m \u001b[0mself\u001b[0m\u001b[1;33m.\u001b[0m\u001b[0mkeep_alive\u001b[0m\u001b[1;33m:\u001b[0m\u001b[1;33m\u001b[0m\u001b[1;33m\u001b[0m\u001b[0m\n\u001b[1;32m--> 316\u001b[1;33m             \u001b[0mresponse\u001b[0m \u001b[1;33m=\u001b[0m \u001b[0mself\u001b[0m\u001b[1;33m.\u001b[0m\u001b[0m_conn\u001b[0m\u001b[1;33m.\u001b[0m\u001b[0mrequest\u001b[0m\u001b[1;33m(\u001b[0m\u001b[0mmethod\u001b[0m\u001b[1;33m,\u001b[0m \u001b[0murl\u001b[0m\u001b[1;33m,\u001b[0m \u001b[0mbody\u001b[0m\u001b[1;33m=\u001b[0m\u001b[0mbody\u001b[0m\u001b[1;33m,\u001b[0m \u001b[0mheaders\u001b[0m\u001b[1;33m=\u001b[0m\u001b[0mheaders\u001b[0m\u001b[1;33m)\u001b[0m\u001b[1;33m\u001b[0m\u001b[1;33m\u001b[0m\u001b[0m\n\u001b[0m\u001b[0;32m    317\u001b[0m             \u001b[0mstatuscode\u001b[0m \u001b[1;33m=\u001b[0m \u001b[0mresponse\u001b[0m\u001b[1;33m.\u001b[0m\u001b[0mstatus\u001b[0m\u001b[1;33m\u001b[0m\u001b[1;33m\u001b[0m\u001b[0m\n\u001b[0;32m    318\u001b[0m         \u001b[1;32melse\u001b[0m\u001b[1;33m:\u001b[0m\u001b[1;33m\u001b[0m\u001b[1;33m\u001b[0m\u001b[0m\n",
      "\u001b[1;32m~\\anaconda3\\lib\\site-packages\\urllib3\\request.py\u001b[0m in \u001b[0;36mrequest\u001b[1;34m(self, method, url, fields, headers, **urlopen_kw)\u001b[0m\n\u001b[0;32m     76\u001b[0m             )\n\u001b[0;32m     77\u001b[0m         \u001b[1;32melse\u001b[0m\u001b[1;33m:\u001b[0m\u001b[1;33m\u001b[0m\u001b[1;33m\u001b[0m\u001b[0m\n\u001b[1;32m---> 78\u001b[1;33m             return self.request_encode_body(\n\u001b[0m\u001b[0;32m     79\u001b[0m                 \u001b[0mmethod\u001b[0m\u001b[1;33m,\u001b[0m \u001b[0murl\u001b[0m\u001b[1;33m,\u001b[0m \u001b[0mfields\u001b[0m\u001b[1;33m=\u001b[0m\u001b[0mfields\u001b[0m\u001b[1;33m,\u001b[0m \u001b[0mheaders\u001b[0m\u001b[1;33m=\u001b[0m\u001b[0mheaders\u001b[0m\u001b[1;33m,\u001b[0m \u001b[1;33m**\u001b[0m\u001b[0murlopen_kw\u001b[0m\u001b[1;33m\u001b[0m\u001b[1;33m\u001b[0m\u001b[0m\n\u001b[0;32m     80\u001b[0m             )\n",
      "\u001b[1;32m~\\anaconda3\\lib\\site-packages\\urllib3\\request.py\u001b[0m in \u001b[0;36mrequest_encode_body\u001b[1;34m(self, method, url, fields, headers, encode_multipart, multipart_boundary, **urlopen_kw)\u001b[0m\n\u001b[0;32m    168\u001b[0m         \u001b[0mextra_kw\u001b[0m\u001b[1;33m.\u001b[0m\u001b[0mupdate\u001b[0m\u001b[1;33m(\u001b[0m\u001b[0murlopen_kw\u001b[0m\u001b[1;33m)\u001b[0m\u001b[1;33m\u001b[0m\u001b[1;33m\u001b[0m\u001b[0m\n\u001b[0;32m    169\u001b[0m \u001b[1;33m\u001b[0m\u001b[0m\n\u001b[1;32m--> 170\u001b[1;33m         \u001b[1;32mreturn\u001b[0m \u001b[0mself\u001b[0m\u001b[1;33m.\u001b[0m\u001b[0murlopen\u001b[0m\u001b[1;33m(\u001b[0m\u001b[0mmethod\u001b[0m\u001b[1;33m,\u001b[0m \u001b[0murl\u001b[0m\u001b[1;33m,\u001b[0m \u001b[1;33m**\u001b[0m\u001b[0mextra_kw\u001b[0m\u001b[1;33m)\u001b[0m\u001b[1;33m\u001b[0m\u001b[1;33m\u001b[0m\u001b[0m\n\u001b[0m",
      "\u001b[1;32m~\\anaconda3\\lib\\site-packages\\urllib3\\poolmanager.py\u001b[0m in \u001b[0;36murlopen\u001b[1;34m(self, method, url, redirect, **kw)\u001b[0m\n\u001b[0;32m    373\u001b[0m             \u001b[0mresponse\u001b[0m \u001b[1;33m=\u001b[0m \u001b[0mconn\u001b[0m\u001b[1;33m.\u001b[0m\u001b[0murlopen\u001b[0m\u001b[1;33m(\u001b[0m\u001b[0mmethod\u001b[0m\u001b[1;33m,\u001b[0m \u001b[0murl\u001b[0m\u001b[1;33m,\u001b[0m \u001b[1;33m**\u001b[0m\u001b[0mkw\u001b[0m\u001b[1;33m)\u001b[0m\u001b[1;33m\u001b[0m\u001b[1;33m\u001b[0m\u001b[0m\n\u001b[0;32m    374\u001b[0m         \u001b[1;32melse\u001b[0m\u001b[1;33m:\u001b[0m\u001b[1;33m\u001b[0m\u001b[1;33m\u001b[0m\u001b[0m\n\u001b[1;32m--> 375\u001b[1;33m             \u001b[0mresponse\u001b[0m \u001b[1;33m=\u001b[0m \u001b[0mconn\u001b[0m\u001b[1;33m.\u001b[0m\u001b[0murlopen\u001b[0m\u001b[1;33m(\u001b[0m\u001b[0mmethod\u001b[0m\u001b[1;33m,\u001b[0m \u001b[0mu\u001b[0m\u001b[1;33m.\u001b[0m\u001b[0mrequest_uri\u001b[0m\u001b[1;33m,\u001b[0m \u001b[1;33m**\u001b[0m\u001b[0mkw\u001b[0m\u001b[1;33m)\u001b[0m\u001b[1;33m\u001b[0m\u001b[1;33m\u001b[0m\u001b[0m\n\u001b[0m\u001b[0;32m    376\u001b[0m \u001b[1;33m\u001b[0m\u001b[0m\n\u001b[0;32m    377\u001b[0m         \u001b[0mredirect_location\u001b[0m \u001b[1;33m=\u001b[0m \u001b[0mredirect\u001b[0m \u001b[1;32mand\u001b[0m \u001b[0mresponse\u001b[0m\u001b[1;33m.\u001b[0m\u001b[0mget_redirect_location\u001b[0m\u001b[1;33m(\u001b[0m\u001b[1;33m)\u001b[0m\u001b[1;33m\u001b[0m\u001b[1;33m\u001b[0m\u001b[0m\n",
      "\u001b[1;32m~\\anaconda3\\lib\\site-packages\\urllib3\\connectionpool.py\u001b[0m in \u001b[0;36murlopen\u001b[1;34m(self, method, url, body, headers, retries, redirect, assert_same_host, timeout, pool_timeout, release_conn, chunked, body_pos, **response_kw)\u001b[0m\n\u001b[0;32m    697\u001b[0m \u001b[1;33m\u001b[0m\u001b[0m\n\u001b[0;32m    698\u001b[0m             \u001b[1;31m# Make the request on the httplib connection object.\u001b[0m\u001b[1;33m\u001b[0m\u001b[1;33m\u001b[0m\u001b[0m\n\u001b[1;32m--> 699\u001b[1;33m             httplib_response = self._make_request(\n\u001b[0m\u001b[0;32m    700\u001b[0m                 \u001b[0mconn\u001b[0m\u001b[1;33m,\u001b[0m\u001b[1;33m\u001b[0m\u001b[1;33m\u001b[0m\u001b[0m\n\u001b[0;32m    701\u001b[0m                 \u001b[0mmethod\u001b[0m\u001b[1;33m,\u001b[0m\u001b[1;33m\u001b[0m\u001b[1;33m\u001b[0m\u001b[0m\n",
      "\u001b[1;32m~\\anaconda3\\lib\\site-packages\\urllib3\\connectionpool.py\u001b[0m in \u001b[0;36m_make_request\u001b[1;34m(self, conn, method, url, timeout, chunked, **httplib_request_kw)\u001b[0m\n\u001b[0;32m    443\u001b[0m                     \u001b[1;31m# Python 3 (including for exceptions like SystemExit).\u001b[0m\u001b[1;33m\u001b[0m\u001b[1;33m\u001b[0m\u001b[0m\n\u001b[0;32m    444\u001b[0m                     \u001b[1;31m# Otherwise it looks like a bug in the code.\u001b[0m\u001b[1;33m\u001b[0m\u001b[1;33m\u001b[0m\u001b[0m\n\u001b[1;32m--> 445\u001b[1;33m                     \u001b[0msix\u001b[0m\u001b[1;33m.\u001b[0m\u001b[0mraise_from\u001b[0m\u001b[1;33m(\u001b[0m\u001b[0me\u001b[0m\u001b[1;33m,\u001b[0m \u001b[1;32mNone\u001b[0m\u001b[1;33m)\u001b[0m\u001b[1;33m\u001b[0m\u001b[1;33m\u001b[0m\u001b[0m\n\u001b[0m\u001b[0;32m    446\u001b[0m         \u001b[1;32mexcept\u001b[0m \u001b[1;33m(\u001b[0m\u001b[0mSocketTimeout\u001b[0m\u001b[1;33m,\u001b[0m \u001b[0mBaseSSLError\u001b[0m\u001b[1;33m,\u001b[0m \u001b[0mSocketError\u001b[0m\u001b[1;33m)\u001b[0m \u001b[1;32mas\u001b[0m \u001b[0me\u001b[0m\u001b[1;33m:\u001b[0m\u001b[1;33m\u001b[0m\u001b[1;33m\u001b[0m\u001b[0m\n\u001b[0;32m    447\u001b[0m             \u001b[0mself\u001b[0m\u001b[1;33m.\u001b[0m\u001b[0m_raise_timeout\u001b[0m\u001b[1;33m(\u001b[0m\u001b[0merr\u001b[0m\u001b[1;33m=\u001b[0m\u001b[0me\u001b[0m\u001b[1;33m,\u001b[0m \u001b[0murl\u001b[0m\u001b[1;33m=\u001b[0m\u001b[0murl\u001b[0m\u001b[1;33m,\u001b[0m \u001b[0mtimeout_value\u001b[0m\u001b[1;33m=\u001b[0m\u001b[0mread_timeout\u001b[0m\u001b[1;33m)\u001b[0m\u001b[1;33m\u001b[0m\u001b[1;33m\u001b[0m\u001b[0m\n",
      "\u001b[1;32m~\\anaconda3\\lib\\site-packages\\urllib3\\packages\\six.py\u001b[0m in \u001b[0;36mraise_from\u001b[1;34m(value, from_value)\u001b[0m\n",
      "\u001b[1;32m~\\anaconda3\\lib\\site-packages\\urllib3\\connectionpool.py\u001b[0m in \u001b[0;36m_make_request\u001b[1;34m(self, conn, method, url, timeout, chunked, **httplib_request_kw)\u001b[0m\n\u001b[0;32m    438\u001b[0m                 \u001b[1;31m# Python 3\u001b[0m\u001b[1;33m\u001b[0m\u001b[1;33m\u001b[0m\u001b[0m\n\u001b[0;32m    439\u001b[0m                 \u001b[1;32mtry\u001b[0m\u001b[1;33m:\u001b[0m\u001b[1;33m\u001b[0m\u001b[1;33m\u001b[0m\u001b[0m\n\u001b[1;32m--> 440\u001b[1;33m                     \u001b[0mhttplib_response\u001b[0m \u001b[1;33m=\u001b[0m \u001b[0mconn\u001b[0m\u001b[1;33m.\u001b[0m\u001b[0mgetresponse\u001b[0m\u001b[1;33m(\u001b[0m\u001b[1;33m)\u001b[0m\u001b[1;33m\u001b[0m\u001b[1;33m\u001b[0m\u001b[0m\n\u001b[0m\u001b[0;32m    441\u001b[0m                 \u001b[1;32mexcept\u001b[0m \u001b[0mBaseException\u001b[0m \u001b[1;32mas\u001b[0m \u001b[0me\u001b[0m\u001b[1;33m:\u001b[0m\u001b[1;33m\u001b[0m\u001b[1;33m\u001b[0m\u001b[0m\n\u001b[0;32m    442\u001b[0m                     \u001b[1;31m# Remove the TypeError from the exception chain in\u001b[0m\u001b[1;33m\u001b[0m\u001b[1;33m\u001b[0m\u001b[0m\n",
      "\u001b[1;32m~\\anaconda3\\lib\\http\\client.py\u001b[0m in \u001b[0;36mgetresponse\u001b[1;34m(self)\u001b[0m\n\u001b[0;32m   1369\u001b[0m         \u001b[1;32mtry\u001b[0m\u001b[1;33m:\u001b[0m\u001b[1;33m\u001b[0m\u001b[1;33m\u001b[0m\u001b[0m\n\u001b[0;32m   1370\u001b[0m             \u001b[1;32mtry\u001b[0m\u001b[1;33m:\u001b[0m\u001b[1;33m\u001b[0m\u001b[1;33m\u001b[0m\u001b[0m\n\u001b[1;32m-> 1371\u001b[1;33m                 \u001b[0mresponse\u001b[0m\u001b[1;33m.\u001b[0m\u001b[0mbegin\u001b[0m\u001b[1;33m(\u001b[0m\u001b[1;33m)\u001b[0m\u001b[1;33m\u001b[0m\u001b[1;33m\u001b[0m\u001b[0m\n\u001b[0m\u001b[0;32m   1372\u001b[0m             \u001b[1;32mexcept\u001b[0m \u001b[0mConnectionError\u001b[0m\u001b[1;33m:\u001b[0m\u001b[1;33m\u001b[0m\u001b[1;33m\u001b[0m\u001b[0m\n\u001b[0;32m   1373\u001b[0m                 \u001b[0mself\u001b[0m\u001b[1;33m.\u001b[0m\u001b[0mclose\u001b[0m\u001b[1;33m(\u001b[0m\u001b[1;33m)\u001b[0m\u001b[1;33m\u001b[0m\u001b[1;33m\u001b[0m\u001b[0m\n",
      "\u001b[1;32m~\\anaconda3\\lib\\http\\client.py\u001b[0m in \u001b[0;36mbegin\u001b[1;34m(self)\u001b[0m\n\u001b[0;32m    317\u001b[0m         \u001b[1;31m# read until we get a non-100 response\u001b[0m\u001b[1;33m\u001b[0m\u001b[1;33m\u001b[0m\u001b[0m\n\u001b[0;32m    318\u001b[0m         \u001b[1;32mwhile\u001b[0m \u001b[1;32mTrue\u001b[0m\u001b[1;33m:\u001b[0m\u001b[1;33m\u001b[0m\u001b[1;33m\u001b[0m\u001b[0m\n\u001b[1;32m--> 319\u001b[1;33m             \u001b[0mversion\u001b[0m\u001b[1;33m,\u001b[0m \u001b[0mstatus\u001b[0m\u001b[1;33m,\u001b[0m \u001b[0mreason\u001b[0m \u001b[1;33m=\u001b[0m \u001b[0mself\u001b[0m\u001b[1;33m.\u001b[0m\u001b[0m_read_status\u001b[0m\u001b[1;33m(\u001b[0m\u001b[1;33m)\u001b[0m\u001b[1;33m\u001b[0m\u001b[1;33m\u001b[0m\u001b[0m\n\u001b[0m\u001b[0;32m    320\u001b[0m             \u001b[1;32mif\u001b[0m \u001b[0mstatus\u001b[0m \u001b[1;33m!=\u001b[0m \u001b[0mCONTINUE\u001b[0m\u001b[1;33m:\u001b[0m\u001b[1;33m\u001b[0m\u001b[1;33m\u001b[0m\u001b[0m\n\u001b[0;32m    321\u001b[0m                 \u001b[1;32mbreak\u001b[0m\u001b[1;33m\u001b[0m\u001b[1;33m\u001b[0m\u001b[0m\n",
      "\u001b[1;32m~\\anaconda3\\lib\\http\\client.py\u001b[0m in \u001b[0;36m_read_status\u001b[1;34m(self)\u001b[0m\n\u001b[0;32m    278\u001b[0m \u001b[1;33m\u001b[0m\u001b[0m\n\u001b[0;32m    279\u001b[0m     \u001b[1;32mdef\u001b[0m \u001b[0m_read_status\u001b[0m\u001b[1;33m(\u001b[0m\u001b[0mself\u001b[0m\u001b[1;33m)\u001b[0m\u001b[1;33m:\u001b[0m\u001b[1;33m\u001b[0m\u001b[1;33m\u001b[0m\u001b[0m\n\u001b[1;32m--> 280\u001b[1;33m         \u001b[0mline\u001b[0m \u001b[1;33m=\u001b[0m \u001b[0mstr\u001b[0m\u001b[1;33m(\u001b[0m\u001b[0mself\u001b[0m\u001b[1;33m.\u001b[0m\u001b[0mfp\u001b[0m\u001b[1;33m.\u001b[0m\u001b[0mreadline\u001b[0m\u001b[1;33m(\u001b[0m\u001b[0m_MAXLINE\u001b[0m \u001b[1;33m+\u001b[0m \u001b[1;36m1\u001b[0m\u001b[1;33m)\u001b[0m\u001b[1;33m,\u001b[0m \u001b[1;34m\"iso-8859-1\"\u001b[0m\u001b[1;33m)\u001b[0m\u001b[1;33m\u001b[0m\u001b[1;33m\u001b[0m\u001b[0m\n\u001b[0m\u001b[0;32m    281\u001b[0m         \u001b[1;32mif\u001b[0m \u001b[0mlen\u001b[0m\u001b[1;33m(\u001b[0m\u001b[0mline\u001b[0m\u001b[1;33m)\u001b[0m \u001b[1;33m>\u001b[0m \u001b[0m_MAXLINE\u001b[0m\u001b[1;33m:\u001b[0m\u001b[1;33m\u001b[0m\u001b[1;33m\u001b[0m\u001b[0m\n\u001b[0;32m    282\u001b[0m             \u001b[1;32mraise\u001b[0m \u001b[0mLineTooLong\u001b[0m\u001b[1;33m(\u001b[0m\u001b[1;34m\"status line\"\u001b[0m\u001b[1;33m)\u001b[0m\u001b[1;33m\u001b[0m\u001b[1;33m\u001b[0m\u001b[0m\n",
      "\u001b[1;32m~\\anaconda3\\lib\\socket.py\u001b[0m in \u001b[0;36mreadinto\u001b[1;34m(self, b)\u001b[0m\n\u001b[0;32m    702\u001b[0m         \u001b[1;32mwhile\u001b[0m \u001b[1;32mTrue\u001b[0m\u001b[1;33m:\u001b[0m\u001b[1;33m\u001b[0m\u001b[1;33m\u001b[0m\u001b[0m\n\u001b[0;32m    703\u001b[0m             \u001b[1;32mtry\u001b[0m\u001b[1;33m:\u001b[0m\u001b[1;33m\u001b[0m\u001b[1;33m\u001b[0m\u001b[0m\n\u001b[1;32m--> 704\u001b[1;33m                 \u001b[1;32mreturn\u001b[0m \u001b[0mself\u001b[0m\u001b[1;33m.\u001b[0m\u001b[0m_sock\u001b[0m\u001b[1;33m.\u001b[0m\u001b[0mrecv_into\u001b[0m\u001b[1;33m(\u001b[0m\u001b[0mb\u001b[0m\u001b[1;33m)\u001b[0m\u001b[1;33m\u001b[0m\u001b[1;33m\u001b[0m\u001b[0m\n\u001b[0m\u001b[0;32m    705\u001b[0m             \u001b[1;32mexcept\u001b[0m \u001b[0mtimeout\u001b[0m\u001b[1;33m:\u001b[0m\u001b[1;33m\u001b[0m\u001b[1;33m\u001b[0m\u001b[0m\n\u001b[0;32m    706\u001b[0m                 \u001b[0mself\u001b[0m\u001b[1;33m.\u001b[0m\u001b[0m_timeout_occurred\u001b[0m \u001b[1;33m=\u001b[0m \u001b[1;32mTrue\u001b[0m\u001b[1;33m\u001b[0m\u001b[1;33m\u001b[0m\u001b[0m\n",
      "\u001b[1;31mKeyboardInterrupt\u001b[0m: "
     ]
    }
   ],
   "source": [
    "danish_msgs=[]\n",
    "element =driver.find_element(By.TAG_NAME,\"body\")\n",
    "\n",
    "while True:\n",
    "    get_links=driver.find_elements(By.CLASS_NAME, \"_1Gy50\")\n",
    "    for i in get_links:\n",
    "        danish_msgs.append(i.text)\n",
    "        element.send_keys(Keys.PAGE_UP)\n",
    "    time.sleep(3)"
   ]
  },
  {
   "cell_type": "code",
   "execution_count": 23,
   "id": "09dae61d",
   "metadata": {},
   "outputs": [
    {
     "data": {
      "text/plain": [
       "['Aoa. \\nKya kr rha aaaj kal?',\n",
       " 'Walaikum Salam',\n",
       " 'G kuch Nahin',\n",
       " 'Free',\n",
       " 'Earning??',\n",
       " 'Abhi itni Nahin',\n",
       " 'Kitni ho rhi or kis cheez mein',\n",
       " 'Invest kia hei ya koi kaaam',\n",
       " 'Nahin',\n",
       " 'Phr?',\n",
       " 'Abhi soch Raha hun',\n",
       " 'Kuch Karna ka',\n",
       " 'Ap sunao Kiya karta ho',\n",
       " 'Internship',\n",
       " 'Kis chez ki',\n",
       " 'Gift card hai',\n",
       " 'Yeah to',\n",
       " 'Nai yaaar meeting mein tha ain bs idhr hi send kr dia',\n",
       " 'Django develpor',\n",
       " 'Sai',\n",
       " 'Hmm',\n",
       " 'Market ma hun',\n",
       " 'Compilation bhut hai',\n",
       " 'Invest kis pr kia hei',\n",
       " 'Call karun?',\n",
       " 'Abhi to busy hun',\n",
       " 'Koi idea hai to batao',\n",
       " 'Acha Acha xhalo kro kaaam jab free ho to btaana ya call ka koi sitting plan bna lo ya mond ka',\n",
       " 'Hmmm in shaa Allah discuss krtei hein zara detail se abhi mera gala bhi kharabh hei or zara kaaam bhi dekhna',\n",
       " 'Ok',\n",
       " 'Monday ko mushkil hai',\n",
       " 'Dekhte hai',\n",
       " 'Hmm',\n",
       " 'Hmm Pata hai',\n",
       " 'Ok',\n",
       " 'Khyban Ali housing society',\n",
       " 'Itna gussa kis pr',\n",
       " 'Paper acha chale gaye is Liya or use paper ki taiyari bhi nahin ki thi',\n",
       " 'Paper ki bhi koi tension leta hei',\n",
       " 'Depend karta hai',\n",
       " 'Paper per',\n",
       " 'Hmmm ye bhi hei jahan tak mujhei yaaad hei bs 2 semesters mein kuch prha tha uss ke baaad abhi kal bina parei subject ko paper dia hei',\n",
       " 'Pr shukr hei khatam huei',\n",
       " 'Sai',\n",
       " 'iss lafz se mujhei nafrat hei',\n",
       " 'Sai',\n",
       " 'Mujhe Nahin',\n",
       " 'Ye bhi theekh hei mgr kheir mujhei sai bejhei ga to mujhei uss ki jagah theekh hei aaana hei',\n",
       " '',\n",
       " 'Computer kitna seekh lia',\n",
       " 'Aata hai mujhe',\n",
       " 'Yah Bhi Koi sikhane ki chiz hai',\n",
       " 'Nai nai itna to aaata ho ga jitna bola tha itna aa gya',\n",
       " 'Ye bhi theekh hei ',\n",
       " 'Saaari zindagi lag jaaati',\n",
       " 'Yeah bhi hai',\n",
       " 'Zindagi Kon chez compelet Nahin hoti',\n",
       " 'Me',\n",
       " 'BBA wesei lucky rha',\n",
       " 'Hmmm beshak',\n",
       " 'Q',\n",
       " 'Nai aesei hi bola mere mutabik',\n",
       " 'Sai',\n",
       " 'G',\n",
       " 'Sher acha hai',\n",
       " 'magar Lagta Nahin Hai',\n",
       " 'Koi asy karay',\n",
       " 'Hmmmm bs kuch deep baaat hei.....',\n",
       " 'Hmmm ho sakti hai',\n",
       " 'G',\n",
       " '',\n",
       " 'Kya chal rha',\n",
       " 'Kiya',\n",
       " '',\n",
       " 'Btaata',\n",
       " 'Kiya',\n",
       " 'Subah mil saktei?? Ya Monday ko',\n",
       " 'G',\n",
       " 'Koi kam hai',\n",
       " 'Monday ko sai rhei ga aesei hi kuch baaat cheet',\n",
       " 'Sai',\n",
       " 'kal kis time milein??',\n",
       " '11 Baja me free hota hun',\n",
       " '8 baj lecture hota hai 11 thk',\n",
       " 'Sai hei mein raaabta kr loun ga',\n",
       " 'Kam kiya hai',\n",
       " 'Bs kuch discuss krna',\n",
       " 'Kis baraa me',\n",
       " 'mil kr baat karein gei in shaa ALLAH',\n",
       " 'Ok',\n",
       " 'Aoa. \\nKya kr rha aaaj kal?',\n",
       " 'Walaikum Salam',\n",
       " 'G kuch Nahin',\n",
       " 'Free',\n",
       " 'Earning??',\n",
       " 'Abhi itni Nahin',\n",
       " 'Kitni ho rhi or kis cheez mein',\n",
       " 'Invest kia hei ya koi kaaam',\n",
       " 'Nahin',\n",
       " 'Phr?',\n",
       " 'Abhi soch Raha hun',\n",
       " 'Kuch Karna ka',\n",
       " 'Ap sunao Kiya karta ho',\n",
       " 'Internship',\n",
       " 'Kis chez ki',\n",
       " 'Gift card hai',\n",
       " 'Yeah to',\n",
       " 'Nai yaaar meeting mein tha ain bs idhr hi send kr dia',\n",
       " 'Django develpor',\n",
       " 'Sai',\n",
       " 'Hmm',\n",
       " 'Market ma hun',\n",
       " 'Compilation bhut hai',\n",
       " 'Invest kis pr kia hei',\n",
       " 'Call karun?',\n",
       " 'Abhi to busy hun',\n",
       " 'Koi idea hai to batao',\n",
       " 'Acha Acha xhalo kro kaaam jab free ho to btaana ya call ka koi sitting plan bna lo ya mond ka',\n",
       " 'Hmmm in shaa Allah discuss krtei hein zara detail se abhi mera gala bhi kharabh hei or zara kaaam bhi dekhna',\n",
       " 'Ok',\n",
       " 'Monday ko mushkil hai',\n",
       " 'Dekhte hai',\n",
       " 'Hmm',\n",
       " 'Hmm Pata hai',\n",
       " 'Ok',\n",
       " 'Khyban Ali housing society',\n",
       " 'Itna gussa kis pr',\n",
       " 'Paper acha chale gaye is Liya or use paper ki taiyari bhi nahin ki thi',\n",
       " 'Paper ki bhi koi tension leta hei',\n",
       " 'Depend karta hai',\n",
       " 'Paper per',\n",
       " 'Hmmm ye bhi hei jahan tak mujhei yaaad hei bs 2 semesters mein kuch prha tha uss ke baaad abhi kal bina parei subject ko paper dia hei',\n",
       " 'Pr shukr hei khatam huei',\n",
       " 'Sai',\n",
       " 'iss lafz se mujhei nafrat hei',\n",
       " 'Sai',\n",
       " 'Mujhe Nahin',\n",
       " 'Ye bhi theekh hei mgr kheir mujhei sai bejhei ga to mujhei uss ki jagah theekh hei aaana hei',\n",
       " '',\n",
       " 'Computer kitna seekh lia',\n",
       " 'Aata hai mujhe',\n",
       " 'Yah Bhi Koi sikhane ki chiz hai',\n",
       " 'Nai nai itna to aaata ho ga jitna bola tha itna aa gya',\n",
       " 'Ye bhi theekh hei ',\n",
       " 'Saaari zindagi lag jaaati',\n",
       " 'Yeah bhi hai',\n",
       " 'Zindagi Kon chez compelet Nahin hoti',\n",
       " 'Me',\n",
       " 'BBA wesei lucky rha',\n",
       " 'Hmmm beshak',\n",
       " 'Q',\n",
       " 'Nai aesei hi bola mere mutabik',\n",
       " 'Sai',\n",
       " 'G',\n",
       " 'Sher acha hai',\n",
       " 'magar Lagta Nahin Hai',\n",
       " 'Koi asy karay',\n",
       " 'Hmmmm bs kuch deep baaat hei.....',\n",
       " 'Hmmm ho sakti hai',\n",
       " 'G',\n",
       " '',\n",
       " 'Kya chal rha',\n",
       " 'Kiya',\n",
       " '',\n",
       " 'Btaata',\n",
       " 'Kiya',\n",
       " 'Subah mil saktei?? Ya Monday ko',\n",
       " 'G',\n",
       " 'Koi kam hai',\n",
       " 'Monday ko sai rhei ga aesei hi kuch baaat cheet',\n",
       " 'Sai',\n",
       " 'kal kis time milein??',\n",
       " '11 Baja me free hota hun',\n",
       " '8 baj lecture hota hai 11 thk',\n",
       " 'Sai hei mein raaabta kr loun ga',\n",
       " 'Kam kiya hai',\n",
       " 'Bs kuch discuss krna',\n",
       " 'Kis baraa me',\n",
       " 'mil kr baat karein gei in shaa ALLAH',\n",
       " 'Ok',\n",
       " 'Aoa',\n",
       " 'Walaikum Salam',\n",
       " 'Yaaar kaaam tha bs ho gya',\n",
       " 'Ok',\n",
       " 'Badduain din thin mujhe',\n",
       " 'Aoa. \\nKya kr rha aaaj kal?',\n",
       " 'Walaikum Salam',\n",
       " 'G kuch Nahin',\n",
       " 'Free',\n",
       " 'Earning??',\n",
       " 'Abhi itni Nahin',\n",
       " 'Kitni ho rhi or kis cheez mein',\n",
       " 'Invest kia hei ya koi kaaam',\n",
       " 'Nahin',\n",
       " 'Phr?',\n",
       " 'Abhi soch Raha hun',\n",
       " 'Kuch Karna ka',\n",
       " 'Ap sunao Kiya karta ho',\n",
       " 'Internship',\n",
       " 'Kis chez ki',\n",
       " 'Gift card hai',\n",
       " 'Yeah to',\n",
       " 'Nai yaaar meeting mein tha ain bs idhr hi send kr dia',\n",
       " 'Django develpor',\n",
       " 'Sai',\n",
       " 'Hmm',\n",
       " 'Market ma hun',\n",
       " 'Compilation bhut hai',\n",
       " 'Invest kis pr kia hei',\n",
       " 'Call karun?',\n",
       " 'Abhi to busy hun',\n",
       " 'Koi idea hai to batao',\n",
       " 'Acha Acha xhalo kro kaaam jab free ho to btaana ya call ka koi sitting plan bna lo ya mond ka',\n",
       " 'Hmmm in shaa Allah discuss krtei hein zara detail se abhi mera gala bhi kharabh hei or zara kaaam bhi dekhna',\n",
       " 'Ok',\n",
       " 'Monday ko mushkil hai',\n",
       " 'Dekhte hai',\n",
       " 'Hmm',\n",
       " 'Hmm Pata hai',\n",
       " 'Ok',\n",
       " 'Khyban Ali housing society',\n",
       " 'Itna gussa kis pr',\n",
       " 'Paper acha chale gaye is Liya or use paper ki taiyari bhi nahin ki thi',\n",
       " 'Paper ki bhi koi tension leta hei',\n",
       " 'Depend karta hai',\n",
       " 'Paper per',\n",
       " 'Hmmm ye bhi hei jahan tak mujhei yaaad hei bs 2 semesters mein kuch prha tha uss ke baaad abhi kal bina parei subject ko paper dia hei',\n",
       " 'Pr shukr hei khatam huei',\n",
       " 'Sai',\n",
       " 'iss lafz se mujhei nafrat hei',\n",
       " 'Sai',\n",
       " 'Mujhe Nahin',\n",
       " 'Ye bhi theekh hei mgr kheir mujhei sai bejhei ga to mujhei uss ki jagah theekh hei aaana hei',\n",
       " '',\n",
       " 'Computer kitna seekh lia',\n",
       " 'Aata hai mujhe',\n",
       " 'Yah Bhi Koi sikhane ki chiz hai',\n",
       " 'Nai nai itna to aaata ho ga jitna bola tha itna aa gya',\n",
       " 'Ye bhi theekh hei ',\n",
       " 'Saaari zindagi lag jaaati',\n",
       " 'Yeah bhi hai',\n",
       " 'Zindagi Kon chez compelet Nahin hoti',\n",
       " 'Me',\n",
       " 'BBA wesei lucky rha',\n",
       " 'Hmmm beshak',\n",
       " 'Q',\n",
       " 'Nai aesei hi bola mere mutabik',\n",
       " 'Sai',\n",
       " 'G',\n",
       " 'Sher acha hai',\n",
       " 'magar Lagta Nahin Hai',\n",
       " 'Koi asy karay',\n",
       " 'Hmmmm bs kuch deep baaat hei.....',\n",
       " 'Hmmm ho sakti hai',\n",
       " 'G',\n",
       " '',\n",
       " 'Kya chal rha',\n",
       " 'Kiya',\n",
       " '',\n",
       " 'Btaata',\n",
       " 'Kiya',\n",
       " 'Subah mil saktei?? Ya Monday ko',\n",
       " 'G',\n",
       " 'Koi kam hai',\n",
       " 'Monday ko sai rhei ga aesei hi kuch baaat cheet',\n",
       " 'Sai',\n",
       " 'kal kis time milein??',\n",
       " '11 Baja me free hota hun',\n",
       " '8 baj lecture hota hai 11 thk',\n",
       " 'Sai hei mein raaabta kr loun ga',\n",
       " 'Kam kiya hai',\n",
       " 'Bs kuch discuss krna',\n",
       " 'Kis baraa me',\n",
       " 'mil kr baat karein gei in shaa ALLAH',\n",
       " 'Ok',\n",
       " 'Aoa',\n",
       " 'Walaikum Salam',\n",
       " 'Yaaar kaaam tha bs ho gya',\n",
       " 'Ok',\n",
       " 'Badduain din thin mujhe',\n",
       " 'Aoa. \\nKya kr rha aaaj kal?',\n",
       " 'Walaikum Salam',\n",
       " 'G kuch Nahin',\n",
       " 'Free',\n",
       " 'Earning??',\n",
       " 'Abhi itni Nahin',\n",
       " 'Kitni ho rhi or kis cheez mein',\n",
       " 'Invest kia hei ya koi kaaam',\n",
       " 'Nahin',\n",
       " 'Phr?',\n",
       " 'Abhi soch Raha hun',\n",
       " 'Kuch Karna ka',\n",
       " 'Ap sunao Kiya karta ho']"
      ]
     },
     "execution_count": 23,
     "metadata": {},
     "output_type": "execute_result"
    }
   ],
   "source": [
    "danish_msgs"
   ]
  },
  {
   "cell_type": "code",
   "execution_count": null,
   "id": "7dc41944",
   "metadata": {},
   "outputs": [],
   "source": [
    "#_1-lf9 _36Yw-\n",
    "get_links=driver.find_elements(By.CLASS_NAME, \"_1Gy50\")."
   ]
  }
 ],
 "metadata": {
  "kernelspec": {
   "display_name": "Python 3 (ipykernel)",
   "language": "python",
   "name": "python3"
  },
  "language_info": {
   "codemirror_mode": {
    "name": "ipython",
    "version": 3
   },
   "file_extension": ".py",
   "mimetype": "text/x-python",
   "name": "python",
   "nbconvert_exporter": "python",
   "pygments_lexer": "ipython3",
   "version": "3.9.16"
  }
 },
 "nbformat": 4,
 "nbformat_minor": 5
}
